{
 "cells": [
  {
   "cell_type": "code",
   "execution_count": 1,
   "metadata": {},
   "outputs": [],
   "source": [
    "from pymongo.mongo_client import MongoClient\n",
    "uri = \"mongodb://localhost:27017/mlops\"\n",
    "# Create a new client and connect to the server\n",
    "client = MongoClient(uri)"
   ]
  },
  {
   "cell_type": "code",
   "execution_count": 2,
   "metadata": {},
   "outputs": [],
   "source": [
    "databases = client['mlops']"
   ]
  },
  {
   "cell_type": "code",
   "execution_count": 3,
   "metadata": {},
   "outputs": [],
   "source": [
    "collection = databases['mongopack']"
   ]
  },
  {
   "cell_type": "code",
   "execution_count": 6,
   "metadata": {},
   "outputs": [],
   "source": [
    "# Sample data\n",
    "data = {'companyName': 'phyCS',\n",
    "     'product': 'Affordable AI',\n",
    "     'courseOffered': 'Machine Learning with Deployment'}"
   ]
  },
  {
   "cell_type": "code",
   "execution_count": 7,
   "metadata": {},
   "outputs": [
    {
     "data": {
      "text/plain": [
       "{'companyName': 'phyCS',\n",
       " 'product': 'Affordable AI',\n",
       " 'courseOffered': 'Machine Learning with Deployment'}"
      ]
     },
     "execution_count": 7,
     "metadata": {},
     "output_type": "execute_result"
    }
   ],
   "source": [
    "data"
   ]
  },
  {
   "cell_type": "code",
   "execution_count": 8,
   "metadata": {},
   "outputs": [
    {
     "data": {
      "text/plain": [
       "InsertOneResult(ObjectId('675e7488ca027ec24d27470c'), acknowledged=True)"
      ]
     },
     "execution_count": 8,
     "metadata": {},
     "output_type": "execute_result"
    }
   ],
   "source": [
    "\n",
    "collection.insert_one(data)"
   ]
  },
  {
   "cell_type": "code",
   "execution_count": 9,
   "metadata": {},
   "outputs": [],
   "source": [
    "all_record=collection.find()"
   ]
  },
  {
   "cell_type": "code",
   "execution_count": 10,
   "metadata": {},
   "outputs": [
    {
     "data": {
      "text/plain": [
       "<pymongo.synchronous.cursor.Cursor at 0x1a409cf2910>"
      ]
     },
     "execution_count": 10,
     "metadata": {},
     "output_type": "execute_result"
    }
   ],
   "source": [
    "all_record"
   ]
  },
  {
   "cell_type": "code",
   "execution_count": 11,
   "metadata": {},
   "outputs": [
    {
     "name": "stdout",
     "output_type": "stream",
     "text": [
      "{'_id': ObjectId('675e7488ca027ec24d27470c'), 'companyName': 'phyCS', 'product': 'Affordable AI', 'courseOffered': 'Machine Learning with Deployment'}\n"
     ]
    }
   ],
   "source": [
    "for record in all_record:\n",
    "    print(record)"
   ]
  },
  {
   "cell_type": "code",
   "execution_count": 12,
   "metadata": {},
   "outputs": [
    {
     "data": {
      "text/plain": [
       "InsertManyResult([ObjectId('675e75cdca027ec24d27470d'), ObjectId('675e75cdca027ec24d27470e')], acknowledged=True)"
      ]
     },
     "execution_count": 12,
     "metadata": {},
     "output_type": "execute_result"
    }
   ],
   "source": [
    "collection.insert_many(\n",
    "    [\n",
    "        {\n",
    "\n",
    "    \"coursename\":\"genai\",\n",
    "    \"instrutorname\":\"sunny\",\n",
    "    \"modeofsession\":\"english\"\n",
    "},\n",
    "\n",
    "{\n",
    "\n",
    "    \"coursename\":\"mlops\",\n",
    "    \"instrutorname\":\"sunnysavita\",\n",
    "    \"modeofsession\":\"english&hindi\"\n",
    "}\n",
    "        \n",
    "    ]\n",
    ")"
   ]
  },
  {
   "cell_type": "code",
   "execution_count": 13,
   "metadata": {},
   "outputs": [],
   "source": [
    "import pandas as pd\n",
    "import json"
   ]
  },
  {
   "cell_type": "code",
   "execution_count": 28,
   "metadata": {},
   "outputs": [],
   "source": [
    "class mongodb_operation:\n",
    "\n",
    "    def __init__(self,client_url: str, database_name: str, collection_name: str=None):\n",
    "        self.client_url=client_url\n",
    "        self.database_name=database_name\n",
    "        self.collection_name=collection_name\n",
    "\n",
    "    def create_client(self):\n",
    "        client=MongoClient(self.client_url)\n",
    "        return client\n",
    "\n",
    "\n",
    "    def create_database(self):\n",
    "        client=self.create_client()\n",
    "        database=client[self.database_name]\n",
    "        return database\n",
    "        \n",
    "    def create_collection(self,collection=None):\n",
    "        database=self.create_database()\n",
    "        collection=database[collection]\n",
    "        return collection\n",
    "\n",
    "    def insert_record(self,record:dict,collection_name:str):\n",
    "        if type(record)==list:\n",
    "            for data in record:\n",
    "                if type(data)!= dict:\n",
    "                    raise TypeError(\"record must be in the dict\")\n",
    "            collection=self.create_collection(collection_name)\n",
    "            collection.insert_many(record)\n",
    "        elif type(record)==dict:\n",
    "            collection=self.create_collection(collection_name)\n",
    "            collection.insert_one(record)\n",
    "\n",
    "    def bulk_insert(self,datafile:str,collection_name:str=None):\n",
    "        self.path=datafile\n",
    "\n",
    "        if self.path.endswith('.csv'):\n",
    "            data=pd.read_csv(self.path,encoding='utf-8')\n",
    "\n",
    "        elif self.path.endswith('.xlsx'):\n",
    "            data=pd.read_excel(self.path,encoding='utf-8')\n",
    "            \n",
    "        datajson=json.loads(data.to_json(orient='record'))\n",
    "        collection=self.create_collection()\n",
    "        collection.insert_many(datajson)\n",
    "\n",
    "    def find_one(self,collection_name:str,query:dict=None):\n",
    "        collection=self.create_collection(collection_name)\n",
    "        return collection.find_one(query)\n",
    "    \n",
    "\n",
    "    def find_all(self,collection_name:str,query:dict=None):\n",
    "        # collection=self.create_collection(collection_name)\n",
    "        if query:\n",
    "            return self.create_collection(collection_name).find(query)\n",
    "        else:\n",
    "            return self.create_collection(collection_name).find()\n",
    "        \n",
    "    def update(self,collection_name:str,query:dict,new_values:dict):\n",
    "        collection=self.create_collection(collection_name)\n",
    "        collection.update_one(query, new_values)\n",
    "\n",
    "    def delete(self,collection_name:str,query:dict):\n",
    "        collection=self.create_collection(collection_name)\n",
    "        collection.delete_one(query)\n",
    "\n",
    "    "
   ]
  },
  {
   "cell_type": "code",
   "execution_count": 29,
   "metadata": {},
   "outputs": [],
   "source": [
    "client_url = \"mongodb://localhost:27017\"\n",
    "database = 'mlops'\n",
    "collection_name = 'mongopack'"
   ]
  },
  {
   "cell_type": "code",
   "execution_count": 30,
   "metadata": {},
   "outputs": [],
   "source": [
    "\n",
    "mongo=mongodb_operation(client_url,database,collection_name)"
   ]
  },
  {
   "cell_type": "code",
   "execution_count": 21,
   "metadata": {},
   "outputs": [],
   "source": [
    "\n",
    "mongo.insert_record({\"name\":\"sunny\",\"designation\":\"data scientist\",\"salary\":\"10k\"},collection_name)"
   ]
  },
  {
   "cell_type": "code",
   "execution_count": 22,
   "metadata": {},
   "outputs": [],
   "source": [
    "mongo.insert_record([{\"name\":\"sunny\",\"designation\":\"data scientist\",\"salary\":\"10k\"},\n",
    "{\"name\":\"sudhanshu\",\"designation\":\"sr. data scientist\",\"salary\":\"150k\"},\n",
    "{\"name\":\"krish\",\"designation\":\"lead data scientist\",\"salary\":\"70k\"}\n",
    "],collection_name)"
   ]
  },
  {
   "cell_type": "code",
   "execution_count": 31,
   "metadata": {},
   "outputs": [],
   "source": [
    "find_data = mongo.find_all(collection_name)"
   ]
  },
  {
   "cell_type": "code",
   "execution_count": 32,
   "metadata": {},
   "outputs": [
    {
     "data": {
      "text/plain": [
       "<pymongo.synchronous.cursor.Cursor at 0x1a41a91a4d0>"
      ]
     },
     "execution_count": 32,
     "metadata": {},
     "output_type": "execute_result"
    }
   ],
   "source": [
    "find_data"
   ]
  },
  {
   "cell_type": "code",
   "execution_count": 35,
   "metadata": {},
   "outputs": [
    {
     "data": {
      "text/plain": [
       "{'_id': ObjectId('675e75cdca027ec24d27470e'),\n",
       " 'coursename': 'mlops',\n",
       " 'instrutorname': 'sunnysavita',\n",
       " 'modeofsession': 'english&hindi'}"
      ]
     },
     "execution_count": 35,
     "metadata": {},
     "output_type": "execute_result"
    }
   ],
   "source": [
    "next(iter(find_data))"
   ]
  },
  {
   "cell_type": "code",
   "execution_count": 36,
   "metadata": {},
   "outputs": [
    {
     "name": "stdout",
     "output_type": "stream",
     "text": [
      "{'_id': ObjectId('675e7ce0ca027ec24d274712'), 'name': 'sunny', 'designation': 'data scientist', 'salary': '10k'}\n",
      "{'_id': ObjectId('675e7cf5ca027ec24d274714'), 'name': 'sunny', 'designation': 'data scientist', 'salary': '10k'}\n",
      "{'_id': ObjectId('675e7cf5ca027ec24d274715'), 'name': 'sudhanshu', 'designation': 'sr. data scientist', 'salary': '150k'}\n",
      "{'_id': ObjectId('675e7cf5ca027ec24d274716'), 'name': 'krish', 'designation': 'lead data scientist', 'salary': '70k'}\n"
     ]
    }
   ],
   "source": [
    "for data in find_data:\n",
    "    print(data)"
   ]
  }
 ],
 "metadata": {
  "kernelspec": {
   "display_name": "Python 3",
   "language": "python",
   "name": "python3"
  },
  "language_info": {
   "codemirror_mode": {
    "name": "ipython",
    "version": 3
   },
   "file_extension": ".py",
   "mimetype": "text/x-python",
   "name": "python",
   "nbconvert_exporter": "python",
   "pygments_lexer": "ipython3",
   "version": "3.11.0"
  }
 },
 "nbformat": 4,
 "nbformat_minor": 2
}
